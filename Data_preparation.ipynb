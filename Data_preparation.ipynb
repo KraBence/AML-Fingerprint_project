{
 "cells": [
  {
   "metadata": {
    "ExecuteTime": {
     "end_time": "2024-10-11T19:14:07.402186Z",
     "start_time": "2024-10-11T19:14:06.725408Z"
    }
   },
   "cell_type": "code",
   "source": "import Finger_functions as f",
   "id": "1ebae8dd7f340fb3",
   "outputs": [],
   "execution_count": 1
  },
  {
   "metadata": {
    "ExecuteTime": {
     "end_time": "2024-10-11T19:14:07.745194Z",
     "start_time": "2024-10-11T19:14:07.407039Z"
    }
   },
   "cell_type": "code",
   "source": "fingerprint_df = f.create_fingerprint_dataframe()",
   "id": "59e3138f99c4505b",
   "outputs": [],
   "execution_count": 2
  },
  {
   "metadata": {
    "ExecuteTime": {
     "end_time": "2024-10-11T19:14:07.851226Z",
     "start_time": "2024-10-11T19:14:07.841218Z"
    }
   },
   "cell_type": "code",
   "source": "fingerprint_df",
   "id": "dbba3f181a006ed7",
   "outputs": [
    {
     "data": {
      "text/plain": [
       "                                               file_path modification gender  \\\n",
       "0           ./SOCOFing/Real/1__M_Right_middle_finger.BMP         real   Male   \n",
       "1            ./SOCOFing/Real/1__M_Right_thumb_finger.BMP         real   Male   \n",
       "2             ./SOCOFing/Real/1__M_Right_ring_finger.BMP         real   Male   \n",
       "3            ./SOCOFing/Real/1__M_Left_little_finger.BMP         real   Male   \n",
       "4             ./SOCOFing/Real/1__M_Left_index_finger.BMP         real   Male   \n",
       "...                                                  ...          ...    ...   \n",
       "55265  ./SOCOFing/Altered/Altered-Hard/600__M_Left_in...         hard   Male   \n",
       "55266  ./SOCOFing/Altered/Altered-Hard/600__M_Right_t...         hard   Male   \n",
       "55267  ./SOCOFing/Altered/Altered-Hard/600__M_Right_m...         hard   Male   \n",
       "55268  ./SOCOFing/Altered/Altered-Hard/600__M_Right_t...         hard   Male   \n",
       "55269  ./SOCOFing/Altered/Altered-Hard/600__M_Right_l...         hard   Male   \n",
       "\n",
       "        hand  finger method  \n",
       "0      Right  middle   None  \n",
       "1      Right   thumb   None  \n",
       "2      Right    ring   None  \n",
       "3       Left  little   None  \n",
       "4       Left   index   None  \n",
       "...      ...     ...    ...  \n",
       "55265   Left   index    Obl  \n",
       "55266  Right   thumb   Zcut  \n",
       "55267  Right  middle     CR  \n",
       "55268  Right   thumb    Obl  \n",
       "55269  Right  little     CR  \n",
       "\n",
       "[55270 rows x 6 columns]"
      ],
      "text/html": [
       "<div>\n",
       "<style scoped>\n",
       "    .dataframe tbody tr th:only-of-type {\n",
       "        vertical-align: middle;\n",
       "    }\n",
       "\n",
       "    .dataframe tbody tr th {\n",
       "        vertical-align: top;\n",
       "    }\n",
       "\n",
       "    .dataframe thead th {\n",
       "        text-align: right;\n",
       "    }\n",
       "</style>\n",
       "<table border=\"1\" class=\"dataframe\">\n",
       "  <thead>\n",
       "    <tr style=\"text-align: right;\">\n",
       "      <th></th>\n",
       "      <th>file_path</th>\n",
       "      <th>modification</th>\n",
       "      <th>gender</th>\n",
       "      <th>hand</th>\n",
       "      <th>finger</th>\n",
       "      <th>method</th>\n",
       "    </tr>\n",
       "  </thead>\n",
       "  <tbody>\n",
       "    <tr>\n",
       "      <th>0</th>\n",
       "      <td>./SOCOFing/Real/1__M_Right_middle_finger.BMP</td>\n",
       "      <td>real</td>\n",
       "      <td>Male</td>\n",
       "      <td>Right</td>\n",
       "      <td>middle</td>\n",
       "      <td>None</td>\n",
       "    </tr>\n",
       "    <tr>\n",
       "      <th>1</th>\n",
       "      <td>./SOCOFing/Real/1__M_Right_thumb_finger.BMP</td>\n",
       "      <td>real</td>\n",
       "      <td>Male</td>\n",
       "      <td>Right</td>\n",
       "      <td>thumb</td>\n",
       "      <td>None</td>\n",
       "    </tr>\n",
       "    <tr>\n",
       "      <th>2</th>\n",
       "      <td>./SOCOFing/Real/1__M_Right_ring_finger.BMP</td>\n",
       "      <td>real</td>\n",
       "      <td>Male</td>\n",
       "      <td>Right</td>\n",
       "      <td>ring</td>\n",
       "      <td>None</td>\n",
       "    </tr>\n",
       "    <tr>\n",
       "      <th>3</th>\n",
       "      <td>./SOCOFing/Real/1__M_Left_little_finger.BMP</td>\n",
       "      <td>real</td>\n",
       "      <td>Male</td>\n",
       "      <td>Left</td>\n",
       "      <td>little</td>\n",
       "      <td>None</td>\n",
       "    </tr>\n",
       "    <tr>\n",
       "      <th>4</th>\n",
       "      <td>./SOCOFing/Real/1__M_Left_index_finger.BMP</td>\n",
       "      <td>real</td>\n",
       "      <td>Male</td>\n",
       "      <td>Left</td>\n",
       "      <td>index</td>\n",
       "      <td>None</td>\n",
       "    </tr>\n",
       "    <tr>\n",
       "      <th>...</th>\n",
       "      <td>...</td>\n",
       "      <td>...</td>\n",
       "      <td>...</td>\n",
       "      <td>...</td>\n",
       "      <td>...</td>\n",
       "      <td>...</td>\n",
       "    </tr>\n",
       "    <tr>\n",
       "      <th>55265</th>\n",
       "      <td>./SOCOFing/Altered/Altered-Hard/600__M_Left_in...</td>\n",
       "      <td>hard</td>\n",
       "      <td>Male</td>\n",
       "      <td>Left</td>\n",
       "      <td>index</td>\n",
       "      <td>Obl</td>\n",
       "    </tr>\n",
       "    <tr>\n",
       "      <th>55266</th>\n",
       "      <td>./SOCOFing/Altered/Altered-Hard/600__M_Right_t...</td>\n",
       "      <td>hard</td>\n",
       "      <td>Male</td>\n",
       "      <td>Right</td>\n",
       "      <td>thumb</td>\n",
       "      <td>Zcut</td>\n",
       "    </tr>\n",
       "    <tr>\n",
       "      <th>55267</th>\n",
       "      <td>./SOCOFing/Altered/Altered-Hard/600__M_Right_m...</td>\n",
       "      <td>hard</td>\n",
       "      <td>Male</td>\n",
       "      <td>Right</td>\n",
       "      <td>middle</td>\n",
       "      <td>CR</td>\n",
       "    </tr>\n",
       "    <tr>\n",
       "      <th>55268</th>\n",
       "      <td>./SOCOFing/Altered/Altered-Hard/600__M_Right_t...</td>\n",
       "      <td>hard</td>\n",
       "      <td>Male</td>\n",
       "      <td>Right</td>\n",
       "      <td>thumb</td>\n",
       "      <td>Obl</td>\n",
       "    </tr>\n",
       "    <tr>\n",
       "      <th>55269</th>\n",
       "      <td>./SOCOFing/Altered/Altered-Hard/600__M_Right_l...</td>\n",
       "      <td>hard</td>\n",
       "      <td>Male</td>\n",
       "      <td>Right</td>\n",
       "      <td>little</td>\n",
       "      <td>CR</td>\n",
       "    </tr>\n",
       "  </tbody>\n",
       "</table>\n",
       "<p>55270 rows × 6 columns</p>\n",
       "</div>"
      ]
     },
     "execution_count": 3,
     "metadata": {},
     "output_type": "execute_result"
    }
   ],
   "execution_count": 3
  },
  {
   "metadata": {
    "ExecuteTime": {
     "end_time": "2024-10-11T19:14:07.934761Z",
     "start_time": "2024-10-11T19:14:07.930380Z"
    }
   },
   "cell_type": "code",
   "source": [
    "rows, columns = fingerprint_df.shape\n",
    "\n",
    "# Print the size\n",
    "print(f\"The DataFrame has {rows} rows and {columns} columns.\")\n"
   ],
   "id": "e3e5c531db8dd01f",
   "outputs": [
    {
     "name": "stdout",
     "output_type": "stream",
     "text": [
      "The DataFrame has 55270 rows and 6 columns.\n"
     ]
    }
   ],
   "execution_count": 4
  },
  {
   "metadata": {
    "ExecuteTime": {
     "end_time": "2024-10-11T19:14:08.085443Z",
     "start_time": "2024-10-11T19:14:08.030229Z"
    }
   },
   "cell_type": "code",
   "source": [
    "import os\n",
    "\n",
    "paths = [f.path_real, f.path_altered_easily, f.path_altered_medium, f.path_altered_hard]\n",
    "\n",
    "total_files = 0\n",
    "for path in paths:\n",
    "    num_files = len(os.listdir(path))\n",
    "    total_files += num_files\n",
    "    print(f\"Number of files in {path}: {num_files}\")\n",
    "\n",
    "print(f\"Total number of files: {total_files}\")\n"
   ],
   "id": "d84fb131dd367ad",
   "outputs": [
    {
     "name": "stdout",
     "output_type": "stream",
     "text": [
      "Number of files in ./SOCOFing/Real/: 6000\n",
      "Number of files in ./SOCOFing/Altered/Altered-Easy/: 17931\n",
      "Number of files in ./SOCOFing/Altered/Altered-Medium/: 17067\n",
      "Number of files in ./SOCOFing/Altered/Altered-Hard/: 14272\n",
      "Total number of files: 55270\n"
     ]
    }
   ],
   "execution_count": 5
  },
  {
   "metadata": {
    "ExecuteTime": {
     "end_time": "2024-10-11T19:14:08.121289Z",
     "start_time": "2024-10-11T19:14:08.119586Z"
    }
   },
   "cell_type": "code",
   "source": "",
   "id": "942e73a83fb31024",
   "outputs": [],
   "execution_count": null
  }
 ],
 "metadata": {
  "kernelspec": {
   "display_name": "Python 3",
   "language": "python",
   "name": "python3"
  },
  "language_info": {
   "codemirror_mode": {
    "name": "ipython",
    "version": 2
   },
   "file_extension": ".py",
   "mimetype": "text/x-python",
   "name": "python",
   "nbconvert_exporter": "python",
   "pygments_lexer": "ipython2",
   "version": "2.7.6"
  }
 },
 "nbformat": 4,
 "nbformat_minor": 5
}
